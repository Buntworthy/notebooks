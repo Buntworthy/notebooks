{
 "metadata": {
  "name": "",
  "signature": "sha256:a548dd965ad6bca65325ca77224496b02c95972d8a80d4e5bb734e59e0a5081f"
 },
 "nbformat": 3,
 "nbformat_minor": 0,
 "worksheets": [
  {
   "cells": [
    {
     "cell_type": "markdown",
     "metadata": {},
     "source": [
      "# 3D display calculations\n",
      "Given display set up parameters and object distance output the perceived image distance relative to display."
     ]
    },
    {
     "cell_type": "code",
     "collapsed": false,
     "input": [
      "%matplotlib inline\n",
      "import numpy as np\n",
      "import matplotlib.pyplot as plt"
     ],
     "language": "python",
     "metadata": {},
     "outputs": [],
     "prompt_number": 1
    },
    {
     "cell_type": "code",
     "collapsed": false,
     "input": [
      "def objectDisparity(distance, params):\n",
      "\n",
      "    pix_obj = 1000.0*params['pix_size']*params['f']*params['IAD']/2/distance\n",
      "    return pix_obj\n",
      "\n",
      "def virtualDepth(pixelDisparity, pixShift, params):\n",
      "    \n",
      "    imageDisparity = pixelDisparity + pixShift\n",
      "    beta = params['disp_width']/params['disp_pix_width']\n",
      "    C = 2*imageDisparity*beta\n",
      "\n",
      "    D_image = params['disp_dist']*C/(params['IPD'] + C)\n",
      "    return D_image"
     ],
     "language": "python",
     "metadata": {},
     "outputs": [],
     "prompt_number": 2
    },
    {
     "cell_type": "code",
     "collapsed": false,
     "input": [
      "# Specify camera parameters:\n",
      "params = {\n",
      "\n",
      "    # Camera parameters\n",
      "    'f' : 1.87, #mm\n",
      "    'IAD' :0.17, #mm\n",
      "    'pix_size' : 1.34, #um/pixel\n",
      "\n",
      "    # Display parameters\n",
      "    'disp_width' : 500.0, #mm\n",
      "    'disp_dist' : 1000.0, #mm\n",
      "    'disp_pix_width' : 1920.0, #pixels\n",
      "    'IPD' : 64.0 #mm\n",
      "\n",
      "}"
     ],
     "language": "python",
     "metadata": {},
     "outputs": [],
     "prompt_number": 7
    },
    {
     "cell_type": "code",
     "collapsed": false,
     "input": [
      "pFar = objectDisparity(100, params)\n",
      "pNom = objectDisparity(40, params)\n",
      "pNear = objectDisparity(25, params)\n",
      "print pFar, pNom, pNear\n",
      "\n",
      "pixShift = -5\n",
      "\n",
      "dFar = virtualDepth(pFar, pixShift, params)\n",
      "dNom = virtualDepth(pNom, pixShift, params)\n",
      "dNear = virtualDepth(pNear, pixShift, params)\n",
      "print dFar, dNom, dNear"
     ],
     "language": "python",
     "metadata": {},
     "outputs": [
      {
       "output_type": "stream",
       "stream": "stdout",
       "text": [
        "2.12993 5.324825 8.51972\n",
        "-23.9152710113 2.6364633041 27.84594776\n"
       ]
      }
     ],
     "prompt_number": 9
    },
    {
     "cell_type": "code",
     "collapsed": false,
     "input": [],
     "language": "python",
     "metadata": {},
     "outputs": [],
     "prompt_number": 12
    },
    {
     "cell_type": "code",
     "collapsed": false,
     "input": [],
     "language": "python",
     "metadata": {},
     "outputs": []
    }
   ],
   "metadata": {}
  }
 ]
}